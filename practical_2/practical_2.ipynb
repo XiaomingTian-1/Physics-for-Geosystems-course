{
 "cells": [
  {
   "cell_type": "markdown",
   "metadata": {},
   "source": [
    "<img style=\"float: left;\" src=\"Practical2/Slide2.JPG\" width=\"100%\">"
   ]
  },
  {
   "cell_type": "markdown",
   "metadata": {},
   "source": [
    "<div style=\"font-size: 20px\">\n",
    "(1) Describe the possible paths of phase transition in this phase diagram when recovering reservoir fluid to surface"
   ]
  },
  {
   "cell_type": "markdown",
   "metadata": {},
   "source": [
    "<img style=\"float: center;\" src=\"Practical2/reservoir_fluid.JPG\" width=\"65%\">"
   ]
  },
  {
   "cell_type": "code",
   "execution_count": null,
   "metadata": {},
   "outputs": [],
   "source": []
  },
  {
   "cell_type": "markdown",
   "metadata": {},
   "source": [
    "<div style=\"font-size: 20px\">\n",
    "(2) The purpose of this exercise is to construct composition diagram of the mixture of n-butane and n-pentane assuming ideal gas and ideal solution behavior at a constant temperature and pressure. We are particularly interested in the region where vapor coexists with liquid."
   ]
  },
  {
   "cell_type": "markdown",
   "metadata": {},
   "source": [
    "<div style=\"font-size: 20px\">\n",
    "According to the law of Raoult the partial pressure $P_i$ of component $i$, is equal to the product of its molar fraction $x_i$ in the liquid phase by the vapor pressure of the pure component $P_i^{sat}$. Express the partial pressure $P_i$ above the mixture in terms of the mole fractions in the liquid phase of its components.\n",
    "\\begin{equation}\n",
    "x_i * p_i^{sat} = p_i\n",
    "\\end{equation}\n"
   ]
  },
  {
   "cell_type": "markdown",
   "metadata": {},
   "source": [
    "<div style=\"font-size: 20px\">\n",
    "According to Dalton’s law the partial pressure of component $i$ is equal to the product of its molar fraction $y_i$ in the vapor phase and the total pressure $P$ in the system. Express $y_i$ as a function of $x_i$ using the law of Raoult and the law of Dalton.\n",
    "\\begin{equation}\n",
    "x_i * p_i^{sat} = p_i\n",
    "\\end{equation}\n",
    "\\begin{equation}\n",
    "p_i = y_i*P\n",
    "\\end{equation}"
   ]
  },
  {
   "cell_type": "markdown",
   "metadata": {},
   "source": [
    "<div style=\"font-size: 20px\">\n",
    "The phase change for a binary mixture system is given below:"
   ]
  },
  {
   "cell_type": "markdown",
   "metadata": {},
   "source": [
    "<img style=\"float: center;\" src=\"Practical2/binary_mixture.JPG\" width=\"70%\">"
   ]
  },
  {
   "cell_type": "markdown",
   "metadata": {},
   "source": [
    "<div style=\"font-size: 20px\">\n",
    "\n"
   ]
  },
  {
   "cell_type": "markdown",
   "metadata": {},
   "source": [
    "<div style=\"font-size: 20px\">\n",
    "Based on the equations and figure given above, derive the expresions of pressure P at bubble point and dew point."
   ]
  },
  {
   "cell_type": "code",
   "execution_count": null,
   "metadata": {},
   "outputs": [],
   "source": []
  },
  {
   "cell_type": "code",
   "execution_count": null,
   "metadata": {},
   "outputs": [],
   "source": []
  },
  {
   "cell_type": "markdown",
   "metadata": {},
   "source": [
    "<div style=\"font-size: 20px\">\n",
    "(3) Based on the expressions derived in question 1 and Antoine equation, plot the bubble point curves and dew point curves at these three remperature conditions given below."
   ]
  },
  {
   "cell_type": "markdown",
   "metadata": {},
   "source": [
    "<img style=\"float: center;\" src=\"Practical2/Slide3.JPG\" width=\"70%\">"
   ]
  },
  {
   "cell_type": "code",
   "execution_count": null,
   "metadata": {},
   "outputs": [],
   "source": [
    "#  phase envelop for ideal mixture\n",
    "#  Temperature Fahrenheit\n",
    "import numpy as np\n",
    "import matplotlib.pyplot as plt\n",
    "%matplotlib inline\n",
    "Tf = np.array([19,185,220])\n",
    "# Antoine parameters Substance 1. Pressure in bars and Temperature in Kelvin.\n",
    "A1 = 4.70812\n",
    "B1 = 1200.475\n",
    "C1 = -13.013\n",
    "# Antoine parameters Substance 2. Pressure in bars and Temperature in Kelvin.\n",
    "A2 = 3.9892\n",
    "B2 = 1070.617\n",
    "C2 = -40.454\n",
    "\n",
    "# # calcuate different curve using Raoult's law\n",
    "plt.figure(figsize=(15, 10))\n",
    "\n",
    "# Temperature in Kelvin\n",
    "Tk = ???\n",
    "# Vapor Pressure Substance 1.\n",
    "Pv1 = ???\n",
    "# Vapor Pressure Substance 2.\n",
    "Pv2 = ???\n",
    "\n",
    "\n",
    "\n",
    "# 19 F\n",
    "x=np.linspace(0,1,100)  \n",
    "Pb=???\n",
    "y=np.linspace(0,1,100)\n",
    "Pd=???\n",
    "plt.plot(x, Pb, 'r')\n",
    "plt.plot(y, Pd, 'r--')\n",
    "\n",
    "# 185 F\n",
    "x=np.linspace(0,1,100)  \n",
    "Pb=???\n",
    "y=np.linspace(0,1,100)\n",
    "Pd=???\n",
    "plt.plot(x, Pb, 'b')\n",
    "plt.plot(y, Pd, 'b--')\n",
    "\n",
    "# 220 F\n",
    "x=np.linspace(0,1,100)  \n",
    "Pb=???\n",
    "y=np.linspace(0,1,100)\n",
    "Pd=???\n",
    "plt.plot(x, Pb, 'k')\n",
    "plt.plot(y, Pd, 'k--')\n",
    "\n",
    "plt.xlabel('composition xi [-]',fontsize = 15)\n",
    "plt.ylabel('pressure(bar)',fontsize = 15)\n",
    "plt.legend(['bubble point curve-19F','dew point curve-19F',\n",
    "            'bubble point curve-185F','dew point curve-185F',\n",
    "           'bubble point curve-220F','dew point curve-220F'],fontsize = 15)\n",
    "\n",
    "plt.show()\n"
   ]
  },
  {
   "cell_type": "markdown",
   "metadata": {},
   "source": [
    "<div style=\"font-size: 20px\">\n",
    "3. We have now known how to derive and calculate the bubble point and dew point at given temperature. Discuss how can we plot bubble point and dew point at given pressure?"
   ]
  }
 ],
 "metadata": {
  "kernelspec": {
   "display_name": "Python 3",
   "language": "python",
   "name": "python3"
  },
  "language_info": {
   "codemirror_mode": {
    "name": "ipython",
    "version": 3
   },
   "file_extension": ".py",
   "mimetype": "text/x-python",
   "name": "python",
   "nbconvert_exporter": "python",
   "pygments_lexer": "ipython3",
   "version": "3.6.5"
  }
 },
 "nbformat": 4,
 "nbformat_minor": 2
}

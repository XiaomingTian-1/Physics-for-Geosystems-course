{
 "cells": [
  {
   "cell_type": "markdown",
   "metadata": {},
   "source": [
    "<div style=\"font-size: 20px\">\n",
    "1. The expression of Van der Waals equation of state (Cubic EoS) is:"
   ]
  },
  {
   "cell_type": "markdown",
   "metadata": {},
   "source": [
    "<img style=\"float: center;\" src=\"van der waals EoS.JPG\" width=\"15%\">"
   ]
  },
  {
   "cell_type": "markdown",
   "metadata": {},
   "source": [
    "<div style=\"font-size: 20px\">\n",
    "At critical point $T_c$, $V_c$ and $P_c$, the system is teetering between liquid and gaseous phases. Van der Waals showed that this is a saddle point of his equation, which means the first and second derivatives of P with respect to V at the critical point $T_c$ and $V_c$ are equal to zero. "
   ]
  },
  {
   "cell_type": "markdown",
   "metadata": {},
   "source": [
    "<div style=\"font-size: 20px\">\n",
    "(1) Based on this information, prove that the expression of the coefficients a and b are:"
   ]
  },
  {
   "cell_type": "markdown",
   "metadata": {},
   "source": [
    "<div style=\"font-size: 20px\">\n",
    "$a=\\frac{27}{64}\\frac{{(RT_c)}^2}{p_c}$,   $b=\\frac{RT_c}{8p_c}$"
   ]
  },
  {
   "cell_type": "code",
   "execution_count": null,
   "metadata": {},
   "outputs": [],
   "source": [
    "# write your answer here"
   ]
  },
  {
   "cell_type": "code",
   "execution_count": null,
   "metadata": {},
   "outputs": [],
   "source": []
  },
  {
   "cell_type": "markdown",
   "metadata": {},
   "source": [
    "<div style=\"font-size: 20px\">\n",
    "(2) Consider there is propane placed in the container sealed with a friction-free piston and maintained at temperature T = 0 ℃. Calculate $a$ and $b$ of Van der Waals equation based on the above equations in question (1), and then plot the pressure as a function of the molar volume $V$ in the range of 0.003 $m^3/mol$ to 0.03 $m^3/mol$. The critical properties of propane: $T_c$=369.82 K and $P_c$=42.6 bar."
   ]
  },
  {
   "cell_type": "code",
   "execution_count": null,
   "metadata": {},
   "outputs": [],
   "source": [
    "import numpy as np\n",
    "import matplotlib.pyplot as plt\n",
    "%matplotlib inline\n",
    "\n",
    "Tc = ???       # K\n",
    "Pc = ???       # Pa\n",
    "R = 8.314      # J/(molK)\n",
    "T = ???        # kelvin\n",
    "a = ???\n",
    "b = ???\n",
    "V = np.linspace(0.003, 0.03, 50)\n",
    "P1 = np.zeros(np.size(V))\n",
    "\n",
    "for i in range(np.size(V)):\n",
    "    P1[i] = R*T/(V[i]-b)-a/(V[i]**2)\n",
    "    \n",
    "plt.figure(figsize=(10, 6))\n",
    "plt.plot(V, P1, 'b--')\n",
    "plt.xlabel('molar volume [$m^3/mol$]',fontsize = 15)\n",
    "plt.ylabel('pressure [Pa]',fontsize = 15)\n",
    "plt.show()"
   ]
  },
  {
   "cell_type": "markdown",
   "metadata": {},
   "source": [
    "<div style=\"font-size: 20px\">\n",
    "(3) Consider now there is 1 mol of propane is at an initial pressure $P_1$=1 atm and temperature T = 0 ℃. Later, the system undergoes a reversible and isothermal compression up to a pressure of $P_2$=6.5 atm. Based on the plot in the last question, find the values of molar volumes at the initial and final state uisng bisection method."
   ]
  },
  {
   "cell_type": "code",
   "execution_count": null,
   "metadata": {},
   "outputs": [],
   "source": [
    "def obj(V, P):\n",
    "    return ???\n",
    "\n",
    "tol = 1e-7  # tolerance  \n",
    "V_left = 0.001\n",
    "V_right = 0.03\n",
    "\n",
    "def bisection(a,b,P):\n",
    "    ???\n",
    "\n",
    "\n",
    "P_initial = 1*100000\n",
    "V_initial = bisection(V_left,V_right,P_initial)\n",
    "P_final = 6.5*100000\n",
    "V_final = bisection(V_left,V_right,P_final)\n",
    "print(V_initial)\n",
    "print(V_final)"
   ]
  },
  {
   "cell_type": "markdown",
   "metadata": {},
   "source": [
    "<div style=\"font-size: 20px\">\n",
    "2. Flash calculation"
   ]
  },
  {
   "cell_type": "markdown",
   "metadata": {},
   "source": [
    "<img style=\"float: center;\" src=\"Slide2.JPG\" width=\"80%\">"
   ]
  },
  {
   "cell_type": "markdown",
   "metadata": {},
   "source": [
    "<div style=\"font-size: 20px\">\n",
    "With the given partitioning coefficients K1=3,K2=0.4,K3=0.05, please use the Rachford-Rice equation to calculate the molar fraction x in the liquid phase and the molar fraction y in the vapor phase for the give overall molar fraction below:\n",
    "\n",
    "(1) z1 = 0.5, z2 = 0.5, z3 = 0; \n",
    "\n",
    "(2) z1 = 0.5, z2 = 0, z3 = 0.5; \n",
    "\n",
    "(3) z1 = 1/3, z2 = 1/3, z3 = 1/3."
   ]
  },
  {
   "cell_type": "code",
   "execution_count": null,
   "metadata": {},
   "outputs": [],
   "source": [
    "import numpy as np\n",
    "# flash calculation constant K values\n",
    "K1 = 3\n",
    "K2 = 0.4\n",
    "K3 = 0.05\n",
    "K = np.array([K1,K2,K3])"
   ]
  },
  {
   "cell_type": "code",
   "execution_count": null,
   "metadata": {},
   "outputs": [],
   "source": [
    "# Define Rachford-Rice equation\n",
    "\n",
    "def RR(K,z):\n",
    "    eps = 1e-12\n",
    "    a = 1 / (1 - np.max(K)) + eps\n",
    "    b = 1 / (1 - np.min(K)) - eps\n",
    "    max_iter = 100\n",
    "    n_iter = 0\n",
    "    for i in range(1, max_iter):\n",
    "        ???\n",
    "            \n",
    "        n_iter += 1\n",
    "\n",
    "        if abs(r) < 1e-12:\n",
    "            break\n",
    "\n",
    "    \n",
    "    x = z / (V * (K - 1) + 1)\n",
    "    y = K * x\n",
    "    return x, y"
   ]
  },
  {
   "cell_type": "code",
   "execution_count": null,
   "metadata": {},
   "outputs": [],
   "source": [
    "z = [[0.5, 0.5, 0],\n",
    "     [0.5, 0, 0.5],\n",
    "     [1/3, 1/3, 1/3]]\n",
    "\n",
    "for z_temp in z:\n",
    "    print(RR(K,z_temp))"
   ]
  }
 ],
 "metadata": {
  "kernelspec": {
   "display_name": "Python 3",
   "language": "python",
   "name": "python3"
  },
  "language_info": {
   "codemirror_mode": {
    "name": "ipython",
    "version": 3
   },
   "file_extension": ".py",
   "mimetype": "text/x-python",
   "name": "python",
   "nbconvert_exporter": "python",
   "pygments_lexer": "ipython3",
   "version": "3.6.5"
  }
 },
 "nbformat": 4,
 "nbformat_minor": 2
}

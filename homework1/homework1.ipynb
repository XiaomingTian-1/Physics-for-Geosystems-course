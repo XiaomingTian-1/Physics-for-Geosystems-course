{
 "cells": [
  {
   "cell_type": "markdown",
   "metadata": {},
   "source": [
    "<div style=\"font-size: 20px\">\n",
    "1.\tBased on the first and second law, derive the Fundamental Property Equation (FPE) for pure component and explain what it means for a definition of the internal energy. What will change in this equation if it will be written for mixture of components?"
   ]
  },
  {
   "cell_type": "code",
   "execution_count": null,
   "metadata": {},
   "outputs": [],
   "source": [
    "## Write your answer here\n",
    "## Choose \"Code\" mode to calculate something using Python\n",
    "## Or swith the mode from \"Code\" to \"Markdown\" when you try to insert texts, equations (Latex style) and figures\n",
    "## If it is necessary, you can add extra cells below to represent your answer in a neaty way"
   ]
  },
  {
   "cell_type": "code",
   "execution_count": null,
   "metadata": {},
   "outputs": [],
   "source": []
  },
  {
   "cell_type": "markdown",
   "metadata": {},
   "source": [
    "<div style=\"font-size: 20px\">\n",
    "2. A thermodynamic property characterizing the phase state is shown in the figure below.\n",
    "\n",
    "    a.\tWhich thermodynamic property is show in the figure?\n",
    "    \n",
    "    b.\tWhat is changing between (a) to (d)? How is it changing?\n",
    "    \n",
    "    c.\tName each thermodynamic state related to each figure. \n",
    "    \n",
    "    d.\tExplain why this thermodynamic property is mostly used to describe phase behavior \n"
   ]
  },
  {
   "cell_type": "markdown",
   "metadata": {},
   "source": [
    "<img style=\"float: left;\" src=\"Gibbs.jpg\" width=\"100%\">"
   ]
  },
  {
   "cell_type": "code",
   "execution_count": null,
   "metadata": {},
   "outputs": [],
   "source": [
    "## Write your answer here\n",
    "## Choose \"Code\" mode to calculate something using Python\n",
    "## Or swith the mode from \"Code\" to \"Markdown\" when you try to insert texts, equations (Latex style) and figures\n",
    "## If it is necessary, you can add extra cells below to represent your answer in a neaty way"
   ]
  },
  {
   "cell_type": "code",
   "execution_count": null,
   "metadata": {},
   "outputs": [],
   "source": []
  },
  {
   "cell_type": "markdown",
   "metadata": {},
   "source": [
    "<div style=\"font-size: 20px\">\n",
    "3. One of the main applications of nonlinear least squares is nonlinear regression or curve fitting. That is by given pairs ${(t_i,y_i) i=1,...,n}$ estimate parameters $X$ defining a nonlinear function $\\varphi(t;X)$, assuming the model:\n",
    "\\begin{equation}\n",
    "y_i = \\varphi(t_i;X) + \\epsilon_i\n",
    "\\end{equation}\n",
    "where $\\epsilon_i$ is the measurement (observation) errors. In the least-squares estimation we search $X$ as the solution of the following optimization problem:\n",
    "\\begin{equation}\n",
    "\\frac{1}{2}\\sum_{i=1}^{n}(\\varphi(t_i;X) - y_i)^2\\rightarrow\\min_x\n",
    "\\end{equation}\n",
    "Such formulation is intuitive and convinient from mathematical point of view. From the probabilistic point of view the least-squares solution is known to be the maximum likelihood estimate, provided that all $\\epsilon_i$ are independent and normally distributed random variables.\n",
    "\n",
    "  So theoretically it is not optimal when $\\epsilon_i$ have distribution other than normal. Although in engineering practice it is usally not important, i.e. if errors behave as some reasonable random variables with zero mean a result of least-squares estimation will be satisfactory.\n",
    "     \n",
    "  Please use the vaporization data we provide in the table \"data.xlsx\" to fit Antoine equation. In this exercise, a small noise is added in the data."
   ]
  },
  {
   "cell_type": "code",
   "execution_count": null,
   "metadata": {},
   "outputs": [],
   "source": [
    "import numpy as np\n",
    "import pandas as pd\n",
    "import matplotlib.pyplot as plt\n",
    "from scipy.optimize import least_squares\n",
    "\n",
    "%matplotlib inline\n",
    "\n",
    "font = {'family': 'serif',\n",
    "        'color':  'darkred',\n",
    "        'weight': 'normal',\n",
    "        'size': 16,\n",
    "        }\n",
    "\n",
    "# 1) Vaporization curve, units in the table: T-Kelvin, P-mmHg\n",
    "data_sub = ???\n",
    "\n",
    "\n",
    "# 2) add a small perturbation \n",
    "error = np.random.random((data_sub['T'].size,len(data_sub.dtypes)))\n",
    "noise = 13\n",
    "data = data_sub + noise * error\n",
    "\n",
    "# plot and compare the data_sub and data\n",
    "plt.figure(figsize=(15, 7))\n",
    "???"
   ]
  },
  {
   "cell_type": "code",
   "execution_count": null,
   "metadata": {},
   "outputs": [],
   "source": [
    "# Define model parameters\n",
    "T_min = 0             # celsius\n",
    "T_max = 374           # celsius\n",
    "T = np.linspace(T_min, T_max, 100)"
   ]
  },
  {
   "cell_type": "code",
   "execution_count": null,
   "metadata": {},
   "outputs": [],
   "source": [
    "# Define the function computing residuals for least-squares minimization:\n",
    "# Recall Antoine equation to construct 'fobj' below\n",
    "def fobj(C, T, P):  # C means three coefficients of Antoine equation\n",
    "    ???"
   ]
  },
  {
   "cell_type": "code",
   "execution_count": null,
   "metadata": {},
   "outputs": [],
   "source": [
    "# Use all ones as the initial estimate.\n",
    "C = np.ones(3)\n",
    "\n",
    "# Run robust least squares with loss='soft_l1', set f_scale to 0.1 \n",
    "# which means that inlier residuals are approximately lower than 0.1.\n",
    "res_robust = least_squares(fobj, C, loss='soft_l1', f_scale=0.1, args=(data['T'], data['P']))\n",
    "\n",
    "print('Antoine coefficients : A = %0.2f, B = %0.2f, C = %0.2f'%(res_robust.x[0],res_robust.x[1],res_robust.x[2]))"
   ]
  },
  {
   "cell_type": "code",
   "execution_count": null,
   "metadata": {},
   "outputs": [],
   "source": [
    "# visualize your results and 'data'\n",
    "\n",
    "plt.figure(figsize=(15, 8))\n",
    "???"
   ]
  }
 ],
 "metadata": {
  "kernelspec": {
   "display_name": "Python 3",
   "language": "python",
   "name": "python3"
  },
  "language_info": {
   "codemirror_mode": {
    "name": "ipython",
    "version": 3
   },
   "file_extension": ".py",
   "mimetype": "text/x-python",
   "name": "python",
   "nbconvert_exporter": "python",
   "pygments_lexer": "ipython3",
   "version": "3.6.5"
  }
 },
 "nbformat": 4,
 "nbformat_minor": 2
}

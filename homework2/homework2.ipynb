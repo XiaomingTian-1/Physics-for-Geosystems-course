{
 "cells": [
  {
   "cell_type": "markdown",
   "metadata": {},
   "source": [
    "<div style=\"font-size: 20px\">\n",
    "1. P-T diagram for hydrocarbon misture"
   ]
  },
  {
   "cell_type": "markdown",
   "metadata": {},
   "source": [
    "<div style=\"font-size: 16px\">\n",
    "The following data have been collected from a reservoir. The critical temperature and the critical pressure of the reservoir fluid are 252 ℉ and 2500 psia, respectively. The reservoir temperature and pressure are 280 ℉ and 3200 psia, respectively. Further, it was determined that the cricondentherm is at 310 ℉ and the cricondenbar is at 3000 psia."
   ]
  },
  {
   "cell_type": "markdown",
   "metadata": {},
   "source": [
    "<div style=\"font-size: 16px\">\n",
    "(1) Based on the data construct the P-T diagram of the reservoir fluid, and indicate: 1) the dew-point and the bubble-point curves; 2) the liquid and gas phases; 3) the two-phase region; 4) the critical point; and 5) the cricondenbar and the cricondentherm."
   ]
  },
  {
   "cell_type": "code",
   "execution_count": 1,
   "metadata": {},
   "outputs": [],
   "source": [
    "# insert your P-T diagram figure here\n",
    "\n",
    "\n"
   ]
  },
  {
   "cell_type": "markdown",
   "metadata": {},
   "source": [
    "<div style=\"font-size: 16px\">\n",
    "(2) Describe the possible paths of phase transition in this phase diagram when recovering reservoir fluid to surface"
   ]
  },
  {
   "cell_type": "code",
   "execution_count": 2,
   "metadata": {},
   "outputs": [],
   "source": [
    "# write your answer or insert figures here\n",
    "\n",
    "\n"
   ]
  },
  {
   "cell_type": "markdown",
   "metadata": {},
   "source": [
    "<div style=\"font-size: 20px\">\n",
    "2. Plotting bubble point and dew point curves"
   ]
  },
  {
   "cell_type": "markdown",
   "metadata": {},
   "source": [
    "<img style=\"float: left;\" src=\"homework5.jpg\" width=\"70%\">"
   ]
  },
  {
   "cell_type": "markdown",
   "metadata": {},
   "source": [
    "<div style=\"font-size: 20px\">\n",
    "The unit of temperature and pressure for Antoine equation here are ℃ and kPa, respectively"
   ]
  },
  {
   "cell_type": "markdown",
   "metadata": {},
   "source": [
    " "
   ]
  },
  {
   "cell_type": "markdown",
   "metadata": {},
   "source": [
    "<div style=\"font-size: 20px\">\n",
    "(1) Plot bubble and dew point curve at given T (Note: We assume ideal mixtures, which means $\\gamma_i$=$\\Phi_i$=1)\n",
    "\n"
   ]
  },
  {
   "cell_type": "markdown",
   "metadata": {},
   "source": [
    "<img style=\"float: left;\" src=\"homework1.jpg\" width=\"50%\">"
   ]
  },
  {
   "cell_type": "markdown",
   "metadata": {},
   "source": [
    " "
   ]
  },
  {
   "cell_type": "markdown",
   "metadata": {},
   "source": [
    "<img style=\"float: left;\" src=\"homework2.jpg\" width=\"50%\">"
   ]
  },
  {
   "cell_type": "code",
   "execution_count": 3,
   "metadata": {},
   "outputs": [
    {
     "data": {
      "image/png": "[encoded data removed]",
      "text/plain": [
       "<Figure size 432x288 with 1 Axes>"
      ]
     },
     "metadata": {},
     "output_type": "display_data"
    }
   ],
   "source": [
    "import numpy as np\n",
    "import matplotlib.pyplot as plt\n",
    "%matplotlib inline\n",
    "C1 = np.array([13.96,2826.26,224.1])     # Antoine coefficients\n",
    "C2 = np.array([13.9926,3295.12,217.55])  # Antoine coefficients\n",
    "Tc = 90  # Celcius\n",
    "\n",
    "# Vapor Pressure Substance 1.\n",
    "Pv1 = 10**(C1[0] - C1[1]/(Tc + C1[2]))\n",
    "# Vapor Pressure Substance 2.\n",
    "Pv2 = 10**(C2[0] - C2[1]/(Tc + C2[2]))\n",
    "\n",
    "\n",
    "x=np.linspace(0,1,100)  \n",
    "Pb=x*Pv1+(1-x)*Pv2\n",
    "y=np.linspace(0,1,100)\n",
    "Pd=1/(y/Pv1 + (1-y)/Pv2)\n",
    "plt.plot(x, Pb, 'b--')\n",
    "plt.plot(y, Pd, 'r')\n",
    "plt.xlabel('composition [-]',fontsize = 15)\n",
    "plt.ylabel('Pressure, kPa',fontsize = 15)\n",
    "plt.show()"
   ]
  },
  {
   "cell_type": "markdown",
   "metadata": {},
   "source": [
    " "
   ]
  },
  {
   "cell_type": "markdown",
   "metadata": {},
   "source": [
    "<div style=\"font-size: 20px\">\n",
    "(2) Plot bubble and dew point curve at given P (Note: We assume ideal mixtures, which means $\\gamma_i$=$\\Phi_i$=1)\n"
   ]
  },
  {
   "cell_type": "markdown",
   "metadata": {},
   "source": [
    "<img style=\"float: left;\" src=\"homework3.jpg\" width=\"50%\">"
   ]
  },
  {
   "cell_type": "markdown",
   "metadata": {},
   "source": [
    " "
   ]
  },
  {
   "cell_type": "markdown",
   "metadata": {},
   "source": [
    "<img style=\"float: left;\" src=\"homework4.jpg\" width=\"50%\">"
   ]
  },
  {
   "cell_type": "code",
   "execution_count": 4,
   "metadata": {},
   "outputs": [],
   "source": [
    "import numpy as np\n",
    "C1 = np.array([13.96,2826.26,224.1])     # Antoine coefficients\n",
    "C2 = np.array([13.9926,3295.12,217.55])  # Antoine coefficients\n",
    "P = 90      # kPa\n",
    "y = np.linspace(0,1,100)   # composition range\n",
    "T1 = 10     # min T\n",
    "T2 = 200    # max T\n",
    "tol = 1e-7  # tolerance  "
   ]
  },
  {
   "cell_type": "code",
   "execution_count": 5,
   "metadata": {},
   "outputs": [],
   "source": [
    "def obj(T, y):\n",
    "    return 1/P - y/(10**(C1[0] - C1[1]/(T + C1[2]))) - (1 - y)/(10**(C2[0] - C2[1]/(T + C2[2])))"
   ]
  },
  {
   "cell_type": "code",
   "execution_count": 6,
   "metadata": {},
   "outputs": [],
   "source": [
    "def bisection(a,b,y):\n",
    "    while (np.abs(a-b)>tol):\n",
    "        T = (a + b)/2\n",
    "        r_left = obj(a, y)\n",
    "        r_right = obj(b, y)\n",
    "        r_mid = obj(T, y)\n",
    "        if (r_left*r_mid<0):\n",
    "            b = T\n",
    "        else:\n",
    "            a = T\n",
    "    return T"
   ]
  },
  {
   "cell_type": "code",
   "execution_count": 7,
   "metadata": {},
   "outputs": [
    {
     "data": {
      "image/png": "[encoded data removed]",
      "text/plain": [
       "<Figure size 432x288 with 1 Axes>"
      ]
     },
     "metadata": {},
     "output_type": "display_data"
    }
   ],
   "source": [
    "Td = np.zeros(len(y))\n",
    "x = np.zeros(len(y))\n",
    "for i in range (len(y)):\n",
    "    Td[i] = bisection(T1,T2,y[i])\n",
    "    Psat = 10**(C1[0] - C1[1]/(Td[i] + C1[2]))\n",
    "    x[i] = y[i] * P / Psat\n",
    "\n",
    "import matplotlib.pyplot as plt\n",
    "%matplotlib inline\n",
    "\n",
    "plt.figure()\n",
    "plt.plot(y,Td,'r')\n",
    "plt.plot(x,Td,'b--')\n",
    "plt.xlabel('composition [-]',fontsize = 15)\n",
    "plt.ylabel('temperature, ℃',fontsize = 15)\n",
    "plt.show()"
   ]
  }
 ],
 "metadata": {
  "kernelspec": {
   "display_name": "Python 3",
   "language": "python",
   "name": "python3"
  },
  "language_info": {
   "codemirror_mode": {
    "name": "ipython",
    "version": 3
   },
   "file_extension": ".py",
   "mimetype": "text/x-python",
   "name": "python",
   "nbconvert_exporter": "python",
   "pygments_lexer": "ipython3",
   "version": "3.6.5"
  }
 },
 "nbformat": 4,
 "nbformat_minor": 2
}

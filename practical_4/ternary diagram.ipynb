{
 "cells": [
  {
   "cell_type": "markdown",
   "metadata": {},
   "source": [
    "<div style=\"font-size: 20px\">\n",
    "(1) The expression of isothermal compressibility of gas is derived based on the definition of compressibility"
   ]
  },
  {
   "cell_type": "markdown",
   "metadata": {},
   "source": [
    "<div style=\"font-size: 20px\">\n",
    "$c_g=-\\frac{1}{V}\\left(\\frac{V}{\\partial p}\\right)$"
   ]
  },
  {
   "cell_type": "markdown",
   "metadata": {},
   "source": [
    "<div style=\"font-size: 20px\">\n",
    "and the EoS of real gas"
   ]
  },
  {
   "cell_type": "markdown",
   "metadata": {},
   "source": [
    "<div style=\"font-size: 20px\">\n",
    "$PV=ZnRT$"
   ]
  },
  {
   "cell_type": "markdown",
   "metadata": {},
   "source": [
    "<div style=\"font-size: 20px\">\n",
    "Prove that the expression of isothermal compressibility of gas is:"
   ]
  },
  {
   "cell_type": "markdown",
   "metadata": {},
   "source": [
    "<div style=\"font-size: 20px\">\n",
    "$c_g=\\frac{1}{p}-\\left(\\frac{\\partial Z}{\\partial p}\\right) \\frac{1}{Z}$"
   ]
  },
  {
   "cell_type": "code",
   "execution_count": null,
   "metadata": {},
   "outputs": [],
   "source": []
  },
  {
   "cell_type": "markdown",
   "metadata": {},
   "source": [
    "<div style=\"font-size: 20px\">\n",
    "(2) Building ternary diagram: With the given z = [z1,z2,z3] and K = [K1, K2, K3], please plot the corresponding tie lines. K_1=3,K_2=0.4,K_3=0.05. A: z1 = 0.5, z2 = 0.5, z3 = 0; B: z1 = 0.5, z2 = 0, z3 = 0.5."
   ]
  },
  {
   "cell_type": "code",
   "execution_count": null,
   "metadata": {},
   "outputs": [],
   "source": [
    "# build ternary diagram for binary system\n",
    "import numpy as np\n",
    "import matplotlib.pyplot as plt \n",
    "import matplotlib.tri as tri\n",
    "K1 = 3\n",
    "K2 = 0.4\n",
    "K3 = 0.05\n",
    "z1_1 = 0.5\n",
    "z1_2 = 0\n",
    "z1_3 = 0.5\n",
    "z2_1 = 0.5\n",
    "z2_2 = 0.5\n",
    "z2_3 = 0\n",
    "K = np.array([K1,K2,K3])\n",
    "z1 = np.array([z1_1,z1_2,z1_3])\n",
    "z2 = np.array([z2_1,z2_2,z2_3])"
   ]
  },
  {
   "cell_type": "code",
   "execution_count": null,
   "metadata": {},
   "outputs": [],
   "source": [
    "# Define Rachford-Rice equation\n",
    "def RR(K,z):\n",
    "    eps = 1e-12\n",
    "    a = 1 / (1 - np.max(K)) + eps\n",
    "    b = 1 / (1 - np.min(K)) - eps\n",
    "    max_iter = 100 \n",
    "    for i in range(1, max_iter):\n",
    "        V = 0.5 * (a + b)\n",
    "\n",
    "        r = ???\n",
    "\n",
    "        if r > 0:\n",
    "            ???\n",
    "        else:\n",
    "            ???\n",
    "\n",
    "        if abs(r) < 1e-12:\n",
    "            break\n",
    "\n",
    "    x = ???\n",
    "    y = K * x\n",
    "    return x, y"
   ]
  },
  {
   "cell_type": "markdown",
   "metadata": {},
   "source": [
    "<img style=\"float: left;\" src=\"Slide3.JPG\" width=\"80%\">\n",
    "<img style=\"float: left;\" src=\"Slide4.JPG\" width=\"80%\">"
   ]
  },
  {
   "cell_type": "markdown",
   "metadata": {},
   "source": [
    "<div style=\"font-size: 20px\">\n",
    "Based on the composition A and B, plot the ternary diagram"
   ]
  },
  {
   "cell_type": "code",
   "execution_count": null,
   "metadata": {},
   "outputs": [],
   "source": [
    "z = np.array([[0,0],[1,0],[0,1],[0,0]])\n",
    "# transfer matrix\n",
    "mt = np.transpose([[1/2,1],[np.sqrt(3)/2,0]])\n",
    "\n",
    "##############################################################################################################\n",
    "# plot triangle\n",
    "p = ???\n",
    "plt.figure(figsize=(10, 8), dpi=100)\n",
    "plt.plot(p[:,0],p[:,1],'k', linewidth=1.5)\n",
    "\n",
    "\n",
    "# plot the corresponding composition in the ternary diagram\n",
    "z1_new = ???\n",
    "z2_new = ???\n",
    "plt.plot(z1_new[0],z1_new[1],'ro',z2_new[0],z2_new[1],'bo')\n",
    "\n",
    "# plot the corresponding tie-line\n",
    "X1 = RR(K,z1)\n",
    "X2 = RR(K,z2)\n",
    "x1 = ???\n",
    "y1 = ???\n",
    "x2 = ???\n",
    "y2 = ???\n",
    "\n",
    "plt.plot([x1[0],y1[0]],[x1[1],y1[1]],'r--')\n",
    "plt.plot([x2[0],y2[0]],[x2[1],y2[1]],'b--')\n",
    "plt.plot([x1[0],x2[0]],[x1[1],x2[1]],'g')\n",
    "plt.plot([y1[0],y2[0]],[y1[1],y2[1]],'g')\n",
    "plt.gcf().text(0.5, 0.87, '$C_1$', fontsize=24,color='black')\n",
    "plt.gcf().text(0.91, 0.1, '$C_2$', fontsize=24,color='black')\n",
    "plt.gcf().text(0.08, 0.1, '$C_3$', fontsize=24,color='black')\n",
    "plt.axis('off')\n",
    "\n",
    "\n",
    "# when the composition is z3 = np.array([0.5, 0.1, 0.4])\n",
    "???\n"
   ]
  },
  {
   "cell_type": "code",
   "execution_count": null,
   "metadata": {},
   "outputs": [],
   "source": []
  }
 ],
 "metadata": {
  "kernelspec": {
   "display_name": "Python 3",
   "language": "python",
   "name": "python3"
  },
  "language_info": {
   "codemirror_mode": {
    "name": "ipython",
    "version": 3
   },
   "file_extension": ".py",
   "mimetype": "text/x-python",
   "name": "python",
   "nbconvert_exporter": "python",
   "pygments_lexer": "ipython3",
   "version": "3.6.5"
  }
 },
 "nbformat": 4,
 "nbformat_minor": 2
}
